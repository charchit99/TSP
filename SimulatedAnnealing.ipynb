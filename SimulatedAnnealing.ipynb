{
 "cells": [
  {
   "cell_type": "markdown",
   "metadata": {},
   "source": [
    "## Import statements\n"
   ]
  },
  {
   "cell_type": "code",
   "execution_count": 49,
   "metadata": {},
   "outputs": [],
   "source": [
    "import math\n",
    "import random\n",
    "import matplotlib.pyplot as plt"
   ]
  },
  {
   "cell_type": "markdown",
   "metadata": {},
   "source": [
    "### Definition of CIty\n",
    "\n",
    "* This gives the defnition of the city class along with few helper function as defined in the class"
   ]
  },
  {
   "cell_type": "code",
   "execution_count": 50,
   "metadata": {},
   "outputs": [],
   "source": [
    "class City:\n",
    "    def __init__(self, x, y):\n",
    "        self.y = y\n",
    "        self.x = x\n",
    "\n",
    "    def distance(self, city):\n",
    "        ret = math.hypot(self.x - city.x, self.y - city.y)\n",
    "        return ret\n",
    "\n",
    "    def __repr__(self):\n",
    "        ret = \"(\" + str(self.x) + \",\" + str(self.y) + \")\"\n",
    "        return ret"
   ]
  },
  {
   "cell_type": "markdown",
   "metadata": {},
   "source": [
    "### Helper Functions\n"
   ]
  },
  {
   "cell_type": "markdown",
   "metadata": {},
   "source": [
    "#### Function to read the cities from the data file"
   ]
  },
  {
   "cell_type": "code",
   "execution_count": 51,
   "metadata": {},
   "outputs": [],
   "source": [
    "def read_cities(size):\n",
    "    cities = list()\n",
    "    file = \"test_data/cities_\" + str(size) + \".data\"\n",
    "    with open(file, 'r') as handle:\n",
    "        lines = handle.readlines()\n",
    "        for line in lines:\n",
    "            x, y = map(float, line.split())\n",
    "            cities.append(City(x, y))\n",
    "    return cities"
   ]
  },
  {
   "cell_type": "markdown",
   "metadata": {},
   "source": [
    "#### Function to generate city using the city class and path_cost is to calculate and return the cost of the path"
   ]
  },
  {
   "cell_type": "code",
   "execution_count": 55,
   "metadata": {},
   "outputs": [],
   "source": [
    "def generate_cities(size):\n",
    "    ret = []\n",
    "    for _ in range(size):\n",
    "        ret.append(City(x=int(random.random() * 1000), y=int(random.random() * 1000)))\n",
    "    return ret\n",
    "\n",
    "def path_cost(route):\n",
    "    ret = []\n",
    "    for index,city in enumerate(route):\n",
    "        ret.append(city.distance(route[index - 1]))\n",
    "    return sum(ret)\n"
   ]
  },
  {
   "cell_type": "markdown",
   "metadata": {},
   "source": [
    "### Simulated Annealing Class \n",
    "* Class to implement the Simulated Annealing algorithm by making use of the CIty class to defined the city objects in the algorithm"
   ]
  },
  {
   "cell_type": "code",
   "execution_count": 64,
   "metadata": {},
   "outputs": [],
   "source": [
    "class SimAnneal(object):\n",
    "    def __init__(self, cities, temperature=-1, alpha=-1, stopping_temperature=-1, stopping_iter=-1):\n",
    "        self.cities = cities\n",
    "        self.num_cities = len(cities)\n",
    "        self.temperature = temperature\n",
    "        if temperature == -1 :\n",
    "            self.temperature = math.sqrt(self.num_cities)\n",
    "        self.T_save = self.temperature\n",
    "        self.alpha = alpha\n",
    "        if alpha == -1:\n",
    "            self.alpha = 0.999\n",
    "\n",
    "        self.stopping_temperature = stopping_temperature\n",
    "        if stopping_temperature == -1:\n",
    "            self.stopping_temperature = 1e-8        \n",
    "        \n",
    "        self.stopping_iter = stopping_iter \n",
    "        if stopping_iter == -1:\n",
    "            self.stopping_iter = 100000\n",
    "            \n",
    "        self.iteration = 1\n",
    "        self.route = None\n",
    "        self.best_fitness = float(\"Inf\")\n",
    "        self.progress = list()\n",
    "        self.cur_cost = None\n",
    "\n",
    "    def greedy_solution(self):\n",
    "        start_node = random.randint(0, self.num_cities)  # start from a random node\n",
    "        unvisited = self.cities[:]\n",
    "        del unvisited[start_node]\n",
    "        route = [cities[start_node]]\n",
    "        while len(unvisited):\n",
    "            index, nearest_city = min(enumerate(unvisited), key=lambda item: item[1].distance(route[-1]))\n",
    "            route.append(nearest_city)\n",
    "            del unvisited[index]\n",
    "        current_cost = path_cost(route)\n",
    "        self.progress.append(current_cost)\n",
    "        return route, current_cost\n",
    "\n",
    "    def accept_probability(self, candidate_fitness):\n",
    "        return math.exp(-abs(candidate_fitness - self.cur_cost) / self.temperature)\n",
    "\n",
    "    def accept(self, guess):\n",
    "        guess_cost = path_cost(guess)\n",
    "        if guess_cost < self.cur_cost:\n",
    "            self.cur_cost, self.route = guess_cost, guess\n",
    "            if guess_cost < self.best_fitness:\n",
    "                self.best_fitness, self.route = guess_cost, guess\n",
    "        else:\n",
    "            if random.random() < self.accept_probability(guess_cost):\n",
    "                self.cur_cost, self.route = guess_cost, guess\n",
    "\n",
    "    def run(self):\n",
    "        self.route, self.cur_cost = self.greedy_solution()\n",
    "        while self.temperature >= self.stopping_temperature and self.iteration < self.stopping_iter:\n",
    "            guess = list(self.route)\n",
    "            left_index = random.randint(2, self.num_cities - 1)\n",
    "            right_index = random.randint(0, self.num_cities - left_index)\n",
    "            guess[right_index: (right_index + left_index)] = reversed(guess[right_index: (right_index + left_index)])\n",
    "            self.accept(guess)\n",
    "            self.temperature *= self.alpha\n",
    "            self.iteration += 1\n",
    "            self.progress.append(self.cur_cost)\n",
    "\n",
    "        print(\"Best fitness obtained: \", self.best_fitness)\n",
    "\n",
    "    def visualize_routes(self):\n",
    "        title = 'simulated annealing TSP'\n",
    "        cities = self.route\n",
    "        fig = plt.figure()\n",
    "        fig.suptitle(title)\n",
    "        x_list, y_list = [], []\n",
    "        for city in cities:\n",
    "            x_list.append(city.x)\n",
    "            y_list.append(city.y)\n",
    "        x_list.append(cities[0].x)\n",
    "        y_list.append(cities[0].y)\n",
    "\n",
    "        plt.plot(x_list, y_list, 'ro')\n",
    "        plt.plot(x_list, y_list, 'g')\n",
    "        plt.show(block=True)\n",
    "\n",
    "    def plot_learning(self):\n",
    "        fig = plt.figure(1)\n",
    "        plt.plot([i for i in range(len(self.progress))], self.progress)\n",
    "        plt.ylabel(\"Distance\")\n",
    "        plt.xlabel(\"Iterations\")\n",
    "        plt.show(block=False)\n"
   ]
  },
  {
   "cell_type": "code",
   "execution_count": 65,
   "metadata": {},
   "outputs": [
    {
     "name": "stdout",
     "output_type": "stream",
     "text": [
      "Best fitness obtained:  6906.041484863388\n"
     ]
    },
    {
     "data": {
      "image/png": "[encoded data removed]",
      "text/plain": [
       "<Figure size 432x288 with 1 Axes>"
      ]
     },
     "metadata": {
      "needs_background": "light"
     },
     "output_type": "display_data"
    },
    {
     "data": {
      "image/png": "[encoded data removed]",
      "text/plain": [
       "<Figure size 432x288 with 1 Axes>"
      ]
     },
     "metadata": {
      "needs_background": "light"
     },
     "output_type": "display_data"
    }
   ],
   "source": [
    "cities = read_cities(64)\n",
    "sa = SimAnneal(cities, stopping_iter=15000)\n",
    "sa.run()\n",
    "sa.plot_learning()\n",
    "sa.visualize_routes()"
   ]
  }
 ],
 "metadata": {
  "kernelspec": {
   "display_name": "Python 3",
   "language": "python",
   "name": "python3"
  },
  "language_info": {
   "codemirror_mode": {
    "name": "ipython",
    "version": 3
   },
   "file_extension": ".py",
   "mimetype": "text/x-python",
   "name": "python",
   "nbconvert_exporter": "python",
   "pygments_lexer": "ipython3",
   "version": "3.8.10"
  }
 },
 "nbformat": 4,
 "nbformat_minor": 4
}
