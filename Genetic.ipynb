{
  "nbformat": 4,
  "nbformat_minor": 0,
  "metadata": {
    "colab": {
      "name": "TSPGenetic.ipynb",
      "provenance": [],
      "collapsed_sections": []
    },
    "kernelspec": {
      "name": "python3",
      "display_name": "Python 3"
    },
    "language_info": {
      "name": "python"
    },
    "widgets": {
      "application/vnd.jupyter.widget-state+json": {
        "4f74a91f7ce64690855264895062a478": {
          "model_module": "@jupyter-widgets/controls",
          "model_name": "HBoxModel",
          "model_module_version": "1.5.0",
          "state": {
            "_view_name": "HBoxView",
            "_dom_classes": [],
            "_model_name": "HBoxModel",
            "_view_module": "@jupyter-widgets/controls",
            "_model_module_version": "1.5.0",
            "_view_count": null,
            "_view_module_version": "1.5.0",
            "box_style": "",
            "layout": "IPY_MODEL_03df83e84cc249b29f163df44d3a5d02",
            "_model_module": "@jupyter-widgets/controls",
            "children": [
              "IPY_MODEL_6af8fcd6da9347808c789450155e9b0c",
              "IPY_MODEL_756bd03d088640c99dc583f99aaba68d",
              "IPY_MODEL_8d6fd0a2d956488c8b572aa9105ce664"
            ]
          }
        },
        "03df83e84cc249b29f163df44d3a5d02": {
          "model_module": "@jupyter-widgets/base",
          "model_name": "LayoutModel",
          "model_module_version": "1.2.0",
          "state": {
            "_view_name": "LayoutView",
            "grid_template_rows": null,
            "right": null,
            "justify_content": null,
            "_view_module": "@jupyter-widgets/base",
            "overflow": null,
            "_model_module_version": "1.2.0",
            "_view_count": null,
            "flex_flow": null,
            "width": null,
            "min_width": null,
            "border": null,
            "align_items": null,
            "bottom": null,
            "_model_module": "@jupyter-widgets/base",
            "top": null,
            "grid_column": null,
            "overflow_y": null,
            "overflow_x": null,
            "grid_auto_flow": null,
            "grid_area": null,
            "grid_template_columns": null,
            "flex": null,
            "_model_name": "LayoutModel",
            "justify_items": null,
            "grid_row": null,
            "max_height": null,
            "align_content": null,
            "visibility": null,
            "align_self": null,
            "height": null,
            "min_height": null,
            "padding": null,
            "grid_auto_rows": null,
            "grid_gap": null,
            "max_width": null,
            "order": null,
            "_view_module_version": "1.2.0",
            "grid_template_areas": null,
            "object_position": null,
            "object_fit": null,
            "grid_auto_columns": null,
            "margin": null,
            "display": null,
            "left": null
          }
        },
        "6af8fcd6da9347808c789450155e9b0c": {
          "model_module": "@jupyter-widgets/controls",
          "model_name": "HTMLModel",
          "model_module_version": "1.5.0",
          "state": {
            "_view_name": "HTMLView",
            "style": "IPY_MODEL_11c5e7814bc047dd8f5bc4eaea9cfac3",
            "_dom_classes": [],
            "description": "",
            "_model_name": "HTMLModel",
            "placeholder": "​",
            "_view_module": "@jupyter-widgets/controls",
            "_model_module_version": "1.5.0",
            "value": "100%",
            "_view_count": null,
            "_view_module_version": "1.5.0",
            "description_tooltip": null,
            "_model_module": "@jupyter-widgets/controls",
            "layout": "IPY_MODEL_788234bdcc004b999f631930b57810ce"
          }
        },
        "756bd03d088640c99dc583f99aaba68d": {
          "model_module": "@jupyter-widgets/controls",
          "model_name": "FloatProgressModel",
          "model_module_version": "1.5.0",
          "state": {
            "_view_name": "ProgressView",
            "style": "IPY_MODEL_cc3e66a34ac64a429494c7dca566403a",
            "_dom_classes": [],
            "description": "",
            "_model_name": "FloatProgressModel",
            "bar_style": "success",
            "max": 100,
            "_view_module": "@jupyter-widgets/controls",
            "_model_module_version": "1.5.0",
            "value": 100,
            "_view_count": null,
            "_view_module_version": "1.5.0",
            "orientation": "horizontal",
            "min": 0,
            "description_tooltip": null,
            "_model_module": "@jupyter-widgets/controls",
            "layout": "IPY_MODEL_ee6a8c37e0534d06bce43e331d4b751e"
          }
        },
        "8d6fd0a2d956488c8b572aa9105ce664": {
          "model_module": "@jupyter-widgets/controls",
          "model_name": "HTMLModel",
          "model_module_version": "1.5.0",
          "state": {
            "_view_name": "HTMLView",
            "style": "IPY_MODEL_3c51662da5314b0fa99641a8fb1bfc71",
            "_dom_classes": [],
            "description": "",
            "_model_name": "HTMLModel",
            "placeholder": "​",
            "_view_module": "@jupyter-widgets/controls",
            "_model_module_version": "1.5.0",
            "value": " 100/100 [00:11&lt;00:00,  4.91it/s]",
            "_view_count": null,
            "_view_module_version": "1.5.0",
            "description_tooltip": null,
            "_model_module": "@jupyter-widgets/controls",
            "layout": "IPY_MODEL_961b75356d394a0b843359ac82bbb4ea"
          }
        },
        "11c5e7814bc047dd8f5bc4eaea9cfac3": {
          "model_module": "@jupyter-widgets/controls",
          "model_name": "DescriptionStyleModel",
          "model_module_version": "1.5.0",
          "state": {
            "_view_name": "StyleView",
            "_model_name": "DescriptionStyleModel",
            "description_width": "",
            "_view_module": "@jupyter-widgets/base",
            "_model_module_version": "1.5.0",
            "_view_count": null,
            "_view_module_version": "1.2.0",
            "_model_module": "@jupyter-widgets/controls"
          }
        },
        "788234bdcc004b999f631930b57810ce": {
          "model_module": "@jupyter-widgets/base",
          "model_name": "LayoutModel",
          "model_module_version": "1.2.0",
          "state": {
            "_view_name": "LayoutView",
            "grid_template_rows": null,
            "right": null,
            "justify_content": null,
            "_view_module": "@jupyter-widgets/base",
            "overflow": null,
            "_model_module_version": "1.2.0",
            "_view_count": null,
            "flex_flow": null,
            "width": null,
            "min_width": null,
            "border": null,
            "align_items": null,
            "bottom": null,
            "_model_module": "@jupyter-widgets/base",
            "top": null,
            "grid_column": null,
            "overflow_y": null,
            "overflow_x": null,
            "grid_auto_flow": null,
            "grid_area": null,
            "grid_template_columns": null,
            "flex": null,
            "_model_name": "LayoutModel",
            "justify_items": null,
            "grid_row": null,
            "max_height": null,
            "align_content": null,
            "visibility": null,
            "align_self": null,
            "height": null,
            "min_height": null,
            "padding": null,
            "grid_auto_rows": null,
            "grid_gap": null,
            "max_width": null,
            "order": null,
            "_view_module_version": "1.2.0",
            "grid_template_areas": null,
            "object_position": null,
            "object_fit": null,
            "grid_auto_columns": null,
            "margin": null,
            "display": null,
            "left": null
          }
        },
        "cc3e66a34ac64a429494c7dca566403a": {
          "model_module": "@jupyter-widgets/controls",
          "model_name": "ProgressStyleModel",
          "model_module_version": "1.5.0",
          "state": {
            "_view_name": "StyleView",
            "_model_name": "ProgressStyleModel",
            "description_width": "",
            "_view_module": "@jupyter-widgets/base",
            "_model_module_version": "1.5.0",
            "_view_count": null,
            "_view_module_version": "1.2.0",
            "bar_color": null,
            "_model_module": "@jupyter-widgets/controls"
          }
        },
        "ee6a8c37e0534d06bce43e331d4b751e": {
          "model_module": "@jupyter-widgets/base",
          "model_name": "LayoutModel",
          "model_module_version": "1.2.0",
          "state": {
            "_view_name": "LayoutView",
            "grid_template_rows": null,
            "right": null,
            "justify_content": null,
            "_view_module": "@jupyter-widgets/base",
            "overflow": null,
            "_model_module_version": "1.2.0",
            "_view_count": null,
            "flex_flow": null,
            "width": null,
            "min_width": null,
            "border": null,
            "align_items": null,
            "bottom": null,
            "_model_module": "@jupyter-widgets/base",
            "top": null,
            "grid_column": null,
            "overflow_y": null,
            "overflow_x": null,
            "grid_auto_flow": null,
            "grid_area": null,
            "grid_template_columns": null,
            "flex": null,
            "_model_name": "LayoutModel",
            "justify_items": null,
            "grid_row": null,
            "max_height": null,
            "align_content": null,
            "visibility": null,
            "align_self": null,
            "height": null,
            "min_height": null,
            "padding": null,
            "grid_auto_rows": null,
            "grid_gap": null,
            "max_width": null,
            "order": null,
            "_view_module_version": "1.2.0",
            "grid_template_areas": null,
            "object_position": null,
            "object_fit": null,
            "grid_auto_columns": null,
            "margin": null,
            "display": null,
            "left": null
          }
        },
        "3c51662da5314b0fa99641a8fb1bfc71": {
          "model_module": "@jupyter-widgets/controls",
          "model_name": "DescriptionStyleModel",
          "model_module_version": "1.5.0",
          "state": {
            "_view_name": "StyleView",
            "_model_name": "DescriptionStyleModel",
            "description_width": "",
            "_view_module": "@jupyter-widgets/base",
            "_model_module_version": "1.5.0",
            "_view_count": null,
            "_view_module_version": "1.2.0",
            "_model_module": "@jupyter-widgets/controls"
          }
        },
        "961b75356d394a0b843359ac82bbb4ea": {
          "model_module": "@jupyter-widgets/base",
          "model_name": "LayoutModel",
          "model_module_version": "1.2.0",
          "state": {
            "_view_name": "LayoutView",
            "grid_template_rows": null,
            "right": null,
            "justify_content": null,
            "_view_module": "@jupyter-widgets/base",
            "overflow": null,
            "_model_module_version": "1.2.0",
            "_view_count": null,
            "flex_flow": null,
            "width": null,
            "min_width": null,
            "border": null,
            "align_items": null,
            "bottom": null,
            "_model_module": "@jupyter-widgets/base",
            "top": null,
            "grid_column": null,
            "overflow_y": null,
            "overflow_x": null,
            "grid_auto_flow": null,
            "grid_area": null,
            "grid_template_columns": null,
            "flex": null,
            "_model_name": "LayoutModel",
            "justify_items": null,
            "grid_row": null,
            "max_height": null,
            "align_content": null,
            "visibility": null,
            "align_self": null,
            "height": null,
            "min_height": null,
            "padding": null,
            "grid_auto_rows": null,
            "grid_gap": null,
            "max_width": null,
            "order": null,
            "_view_module_version": "1.2.0",
            "grid_template_areas": null,
            "object_position": null,
            "object_fit": null,
            "grid_auto_columns": null,
            "margin": null,
            "display": null,
            "left": null
          }
        }
      }
    }
  },
  "cells": [
    {
      "cell_type": "code",
      "metadata": {
        "id": "yleAIySqhg90"
      },
      "source": [
        "!pip install tsplib95"
      ],
      "execution_count": null,
      "outputs": []
    },
    {
      "cell_type": "code",
      "metadata": {
        "id": "QCtUQwlQXMhk"
      },
      "source": [
        "import numpy as np\n",
        "import matplotlib.pyplot as plt\n",
        "import random\n",
        "import operator\n",
        "from tqdm.notebook import tqdm\n",
        "import tsplib95\n",
        "import networkx as nx\n",
        "import pylab"
      ],
      "execution_count": 89,
      "outputs": []
    },
    {
      "cell_type": "code",
      "metadata": {
        "id": "3XWkml6xXe9H"
      },
      "source": [
        "# city class that stores the ID of the city\n",
        "class City:\n",
        "    def __init__(self, ID):\n",
        "        self.ID = ID"
      ],
      "execution_count": 4,
      "outputs": []
    },
    {
      "cell_type": "code",
      "metadata": {
        "id": "BgimP48Ruivj"
      },
      "source": [
        "# function that returns the distance bw 2 cities\n",
        "# using the distance matrix from the problem\n",
        "def distance_between_cities(city1, city2):\n",
        "    return distance_matrix[city1.ID, city2.ID]"
      ],
      "execution_count": 6,
      "outputs": []
    },
    {
      "cell_type": "code",
      "metadata": {
        "id": "dI2GvSVcuI5K"
      },
      "source": [
        "# Route class that stores the route and its fitness score\n",
        "class Route:\n",
        "    def __init__(self, route):\n",
        "        self.route = route\n",
        "        self.fitness = 0\n",
        "\n",
        "    def get_fitness(self):\n",
        "\n",
        "        distance = 0.0\n",
        "        for i in range(len(self.route) - 1):\n",
        "            distance += distance_between_cities(self.route[i], self.route[i+1])\n",
        "        distance += distance_between_cities(self.route[-1], self.route[0])\n",
        "\n",
        "        self.fitness = 1 / float(distance)\n",
        "        return self.fitness"
      ],
      "execution_count": 7,
      "outputs": []
    },
    {
      "cell_type": "code",
      "metadata": {
        "id": "mZHsEznFzaEt"
      },
      "source": [
        "# function to generate random population\n",
        "# which is a random collection of routes\n",
        "def generate_random_population(size, cities):\n",
        "    population = []\n",
        "    for _ in range(size):\n",
        "        population.append(random.sample(cities, len(cities)))\n",
        "    return population"
      ],
      "execution_count": 8,
      "outputs": []
    },
    {
      "cell_type": "code",
      "metadata": {
        "id": "2EZpTMTV0QnG"
      },
      "source": [
        "# rank the routes in a population based on fitness score\n",
        "def rank_population(population):\n",
        "    fitness = {}\n",
        "    for i, route in enumerate(population):\n",
        "        fitness[i] = Route(route).get_fitness()\n",
        "    return np.array(sorted(fitness.items(), key=operator.itemgetter(1), reverse=True))"
      ],
      "execution_count": 9,
      "outputs": []
    },
    {
      "cell_type": "code",
      "metadata": {
        "id": "pKvEtahnwTSn"
      },
      "source": [
        "# selecting the best routes from a population to carry forward\n",
        "# to the next generation\n",
        "def get_mating_pool(ranked_pop, population, elite_size):\n",
        "    mating_pool = []\n",
        "    ref = ranked_pop[:, 1].cumsum() / ranked_pop[:, 1].sum()\n",
        "    for i in range(elite_size):\n",
        "        mating_pool.append(population[int(ranked_pop[i][0])])\n",
        "    for _ in range(len(ranked_pop) - elite_size):\n",
        "        # val = np.random.rand()\n",
        "        pos = int(np.random.rand() * 10)\n",
        "        mating_pool.append(population[pos])\n",
        "    return mating_pool"
      ],
      "execution_count": 49,
      "outputs": []
    },
    {
      "cell_type": "code",
      "metadata": {
        "id": "8_Xs2wjc4DNO"
      },
      "source": [
        "# function to combine 2 routes to produce an offspring\n",
        "def reproduce(parent1, parent2):\n",
        "    ind = np.array([int(np.random.rand() * len(parent1)), int(np.random.rand() * len(parent1))])\n",
        "    cross_over = parent1[ind.min():ind.max()+1]\n",
        "    rest = [gene for gene in parent2 if gene not in cross_over]\n",
        "    cross_over = random.sample(cross_over, len(cross_over))\n",
        "    return (rest + cross_over)"
      ],
      "execution_count": 50,
      "outputs": []
    },
    {
      "cell_type": "code",
      "metadata": {
        "id": "rfYs7lzq6r7z"
      },
      "source": [
        "# handling breeding in the entire population\n",
        "# elites are carried forward directly \n",
        "def breed(mating_pool, elite_size):\n",
        "    children = []\n",
        "    elites = mating_pool[:elite_size]\n",
        "    children.extend(elites)\n",
        "    # mating_pool = mating_pool[elite_size:]\n",
        "    for i in range(len(mating_pool)):\n",
        "        children.append(reproduce(mating_pool[i], mating_pool[-i]))\n",
        "    return children"
      ],
      "execution_count": 51,
      "outputs": []
    },
    {
      "cell_type": "code",
      "metadata": {
        "id": "e6O2eNqX9aMp"
      },
      "source": [
        "# mutation in children meaning small changes in order of\n",
        "# cities in a route\n",
        "def mutate(route, rate):\n",
        "    for i in range(len(route)):\n",
        "        if np.random.rand() < rate :\n",
        "            pos1 = i\n",
        "            pos2 = int(np.random.rand() * len(route))\n",
        "            route[pos1], route[pos2] = route[pos2], route[pos1] \n",
        "    return route"
      ],
      "execution_count": 52,
      "outputs": []
    },
    {
      "cell_type": "code",
      "metadata": {
        "id": "sct9n7O3-CnP"
      },
      "source": [
        "# extending the mutation to the entire population\n",
        "def mutate_children(children, rate):\n",
        "    mutated_children = []\n",
        "    for child in children:\n",
        "        mutated_children.append(mutate(child, rate))\n",
        "    return mutated_children"
      ],
      "execution_count": 53,
      "outputs": []
    },
    {
      "cell_type": "code",
      "metadata": {
        "id": "auEjnnMbEIA6"
      },
      "source": [
        "# combining all the steps into a single pipeline\n",
        "def propagate(cities, pop_size, elite_size, rate, gens):\n",
        "    initial_population = generate_random_population(pop_size, cities)\n",
        "    pop = initial_population\n",
        "    distance = np.zeros(gens)\n",
        "    for i in tqdm(range(gens)):\n",
        "        ranking = rank_population(pop)\n",
        "        mating_pool = get_mating_pool(ranking, pop, elite_size)\n",
        "        children = breed(mating_pool, elite_size)\n",
        "        next_gen = mutate_children(children, rate)\n",
        "        pop = next_gen\n",
        "        distance[i] = 1 / rank_population(next_gen)[0][1]\n",
        "    pos = int(rank_population(next_gen)[0][0])\n",
        "    city_list = []\n",
        "    for city in next_gen[pos]:\n",
        "        city_list.append(city.ID)\n",
        "    city_list.append(city_list[0])\n",
        "    return city_list, np.array(distance)"
      ],
      "execution_count": 78,
      "outputs": []
    },
    {
      "cell_type": "code",
      "metadata": {
        "colab": {
          "base_uri": "https://localhost:8080/",
          "height": 49,
          "referenced_widgets": [
            "4f74a91f7ce64690855264895062a478",
            "03df83e84cc249b29f163df44d3a5d02",
            "6af8fcd6da9347808c789450155e9b0c",
            "756bd03d088640c99dc583f99aaba68d",
            "8d6fd0a2d956488c8b572aa9105ce664",
            "11c5e7814bc047dd8f5bc4eaea9cfac3",
            "788234bdcc004b999f631930b57810ce",
            "cc3e66a34ac64a429494c7dca566403a",
            "ee6a8c37e0534d06bce43e331d4b751e",
            "3c51662da5314b0fa99641a8fb1bfc71",
            "961b75356d394a0b843359ac82bbb4ea"
          ]
        },
        "id": "x5BuAvFJPm_U",
        "outputId": "fc581c91-4a2f-4f5c-aabd-50d2455363b2"
      },
      "source": [
        "# trying to optimize \n",
        "problem = tsplib95.load('bays29.tsp')\n",
        "\n",
        "# distance matrix for the 29 cities\n",
        "distance_matrix = np.array(problem.edge_weights)\n",
        "\n",
        "# assigning unique IDs to the 29 cities\n",
        "cities = []\n",
        "for i in range(29):\n",
        "    cities.append(City(ID=i))\n",
        "\n",
        "# simulating 200 generations\n",
        "gens = 100\n",
        "best_order, best_distance = propagate(cities, 100, 20, 0.01, gens)"
      ],
      "execution_count": 79,
      "outputs": [
        {
          "output_type": "display_data",
          "data": {
            "application/vnd.jupyter.widget-view+json": {
              "model_id": "4f74a91f7ce64690855264895062a478",
              "version_minor": 0,
              "version_major": 2
            },
            "text/plain": [
              "  0%|          | 0/100 [00:00<?, ?it/s]"
            ]
          },
          "metadata": {}
        }
      ]
    },
    {
      "cell_type": "code",
      "metadata": {
        "colab": {
          "base_uri": "https://localhost:8080/",
          "height": 312
        },
        "id": "JK0u2xudYp7l",
        "outputId": "d7526404-4208-46dd-fae5-0a67d9ef0307"
      },
      "source": [
        "# plot of the best distance with generation\n",
        "plt.plot(np.arange(gens), best_distance)\n",
        "plt.title(\"Distance Plot\")\n",
        "plt.xlabel('generation')\n",
        "plt.ylabel('distance')"
      ],
      "execution_count": 83,
      "outputs": [
        {
          "output_type": "execute_result",
          "data": {
            "text/plain": [
              "Text(0, 0.5, 'distance')"
            ]
          },
          "metadata": {},
          "execution_count": 83
        },
        {
          "output_type": "display_data",
          "data": {
            "image/png": "[encoded data removed]",
            "text/plain": [
              "<Figure size 432x288 with 1 Axes>"
            ]
          },
          "metadata": {
            "needs_background": "light"
          }
        }
      ]
    },
    {
      "cell_type": "code",
      "metadata": {
        "colab": {
          "base_uri": "https://localhost:8080/"
        },
        "id": "iBU3FKRkUROY",
        "outputId": "369fdece-b93f-4cec-e6ad-c0c1e0012cc2"
      },
      "source": [
        " print(f\"The overall distance reduced from {best_distance[0]} to {best_distance[-1]}.\")"
      ],
      "execution_count": 88,
      "outputs": [
        {
          "output_type": "stream",
          "name": "stdout",
          "text": [
            "The overall distance reduced from 4705.0 to 2195.0.\n"
          ]
        }
      ]
    },
    {
      "cell_type": "code",
      "metadata": {
        "colab": {
          "base_uri": "https://localhost:8080/",
          "height": 248
        },
        "id": "HHXAc5JDmnpI",
        "outputId": "55f14ca1-c9c9-4a5d-9bfe-0baf3680709a"
      },
      "source": [
        "# visualising the best route (saturation)\n",
        "edges = [(best_order[i], best_order[i+1]) for i in range(len(best_order)-1)]\n",
        "G = nx.DiGraph()\n",
        "for node in best_order[:-1]:\n",
        "    G.add_node(node)\n",
        "G.add_edges_from(edges)\n",
        "nx.draw_networkx(G, with_labels=True)"
      ],
      "execution_count": 100,
      "outputs": [
        {
          "output_type": "display_data",
          "data": {
            "image/png": "[encoded data removed]",
            "text/plain": [
              "<Figure size 432x288 with 1 Axes>"
            ]
          },
          "metadata": {}
        }
      ]
    },
    {
      "cell_type": "code",
      "metadata": {
        "id": "CmNxWqdXo6Cz"
      },
      "source": [
        ""
      ],
      "execution_count": 95,
      "outputs": []
    },
    {
      "cell_type": "code",
      "metadata": {
        "id": "H2NJm9M7qenh"
      },
      "source": [
        ""
      ],
      "execution_count": null,
      "outputs": []
    }
  ]
}